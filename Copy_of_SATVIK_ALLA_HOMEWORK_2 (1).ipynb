{
  "nbformat": 4,
  "nbformat_minor": 0,
  "metadata": {
    "colab": {
      "provenance": []
    },
    "kernelspec": {
      "name": "python3",
      "display_name": "Python 3"
    },
    "language_info": {
      "name": "python"
    }
  },
  "cells": [
    {
      "cell_type": "markdown",
      "source": [
        "Dear Student,\n",
        "\n",
        "In Homework 2, you will delve into the critical topic of imbalanced classification. Many real-world problems are, fortunatelly, inherently imbalanced. For instance, events like being diagnosed with cancer or experiencing a fatal car crash are relatively rare. Fortunately, only some percentage of patients visiting a dermatologist with suspicious moles are found to have cancerous ones. However, the significance of accurately identifying those cancerous cases cannot be overstated.\n",
        "\n",
        "Classification algorithms like neural networks are unaware of the importance of the minority class and focus solely on minimizing the loss. For example, if 99% of the dataset consists of negative class samples and only 1% represents positive class samples, a model could achieve 99% accuracy simply by predicting all instances as belonging to the negative class.\n",
        "\n",
        "In this homework, your task is to classify fraudulent credit card transactions. You are tasked with identifying the sampling algorithm that helps to achieve the highest accuracy in predicting fraudulent transactions.\n",
        "\n",
        "Credit card fraud detection dataset contains transactions made by credit cards in September 2013 by European cardholders.\n",
        "This dataset presents transactions that occurred in two days, where we have 492 frauds out of 284,807 transactions. The dataset is highly unbalanced, the positive class (frauds) account for 0.172% of all transactions. Here is the full description of this dataset:\n",
        "https://www.kaggle.com/datasets/mlg-ulb/creditcardfraud/data"
      ],
      "metadata": {
        "id": "_rxhk4_55Jgr"
      }
    },
    {
      "cell_type": "code",
      "source": [
        "import kagglehub\n",
        "import shutil\n",
        "import os\n",
        "# Download latest version\n",
        "data_path = kagglehub.dataset_download(\"mlg-ulb/creditcardfraud\", force_download=True)\n",
        "fpath = os.listdir(data_path)[0]\n",
        "print(data_path)\n",
        "\n",
        "# Set the destination folder\n",
        "destination_folder = \"/content\"  # Replace with desired folder\n",
        "shutil.move(os.path.join(data_path,fpath), destination_folder)\n"
      ],
      "metadata": {
        "id": "FhFrjveSBFaR",
        "colab": {
          "base_uri": "https://localhost:8080/",
          "height": 107
        },
        "outputId": "b405f371-a956-48dc-8c0a-3bf8c4fd899d"
      },
      "execution_count": 2,
      "outputs": [
        {
          "output_type": "stream",
          "name": "stdout",
          "text": [
            "Downloading from https://www.kaggle.com/api/v1/datasets/download/mlg-ulb/creditcardfraud?dataset_version_number=3...\n"
          ]
        },
        {
          "output_type": "stream",
          "name": "stderr",
          "text": [
            "100%|██████████| 66.0M/66.0M [00:02<00:00, 23.2MB/s]"
          ]
        },
        {
          "output_type": "stream",
          "name": "stdout",
          "text": [
            "Extracting files...\n"
          ]
        },
        {
          "output_type": "stream",
          "name": "stderr",
          "text": [
            "\n"
          ]
        },
        {
          "output_type": "stream",
          "name": "stdout",
          "text": [
            "/root/.cache/kagglehub/datasets/mlg-ulb/creditcardfraud/versions/3\n"
          ]
        },
        {
          "output_type": "execute_result",
          "data": {
            "text/plain": [
              "'/content/creditcard.csv'"
            ],
            "application/vnd.google.colaboratory.intrinsic+json": {
              "type": "string"
            }
          },
          "metadata": {},
          "execution_count": 2
        }
      ]
    },
    {
      "cell_type": "markdown",
      "source": [
        "\n",
        "After downloading the dataset, we will load it using the pandas read_csv function. You can explore the features in the dataset. Most of these features are \"anonymized\" to protect clients' private information, and are transformed using the PCA algorithm, likely, to prevent reverse engineering.\n",
        "\n",
        "However, two features, \"Amount\" and \"Time\", are retained in their original form. The \"Class\" feature indicates whether a transaction is fraudulent or not and will serve as the target (labels) for the classification task."
      ],
      "metadata": {
        "id": "Z0JMAWMy-Fxi"
      }
    },
    {
      "cell_type": "code",
      "source": [
        "import pandas as pd\n",
        "from sklearn.preprocessing import MinMaxScaler\n",
        "\n",
        "# Assuming the downloaded file is named 'creditcard.csv'\n",
        "df = pd.read_csv('/content/creditcard.csv')\n",
        "\n",
        "# Print some basic information about the dataframe\n",
        "print(df.head())  # Print the first 5 rows\n",
        "print(df.info())   # Print information about the columns and data types\n",
        "print(df.describe()) # Print descriptive statistics of the dataframe"
      ],
      "metadata": {
        "id": "Nm-DHN7lMj4I",
        "colab": {
          "base_uri": "https://localhost:8080/"
        },
        "outputId": "fbe5a7b3-7027-41fc-b7f3-80dbf2b4f943"
      },
      "execution_count": 3,
      "outputs": [
        {
          "output_type": "stream",
          "name": "stdout",
          "text": [
            "   Time        V1        V2        V3        V4        V5        V6        V7  \\\n",
            "0   0.0 -1.359807 -0.072781  2.536347  1.378155 -0.338321  0.462388  0.239599   \n",
            "1   0.0  1.191857  0.266151  0.166480  0.448154  0.060018 -0.082361 -0.078803   \n",
            "2   1.0 -1.358354 -1.340163  1.773209  0.379780 -0.503198  1.800499  0.791461   \n",
            "3   1.0 -0.966272 -0.185226  1.792993 -0.863291 -0.010309  1.247203  0.237609   \n",
            "4   2.0 -1.158233  0.877737  1.548718  0.403034 -0.407193  0.095921  0.592941   \n",
            "\n",
            "         V8        V9  ...       V21       V22       V23       V24       V25  \\\n",
            "0  0.098698  0.363787  ... -0.018307  0.277838 -0.110474  0.066928  0.128539   \n",
            "1  0.085102 -0.255425  ... -0.225775 -0.638672  0.101288 -0.339846  0.167170   \n",
            "2  0.247676 -1.514654  ...  0.247998  0.771679  0.909412 -0.689281 -0.327642   \n",
            "3  0.377436 -1.387024  ... -0.108300  0.005274 -0.190321 -1.175575  0.647376   \n",
            "4 -0.270533  0.817739  ... -0.009431  0.798278 -0.137458  0.141267 -0.206010   \n",
            "\n",
            "        V26       V27       V28  Amount  Class  \n",
            "0 -0.189115  0.133558 -0.021053  149.62      0  \n",
            "1  0.125895 -0.008983  0.014724    2.69      0  \n",
            "2 -0.139097 -0.055353 -0.059752  378.66      0  \n",
            "3 -0.221929  0.062723  0.061458  123.50      0  \n",
            "4  0.502292  0.219422  0.215153   69.99      0  \n",
            "\n",
            "[5 rows x 31 columns]\n",
            "<class 'pandas.core.frame.DataFrame'>\n",
            "RangeIndex: 284807 entries, 0 to 284806\n",
            "Data columns (total 31 columns):\n",
            " #   Column  Non-Null Count   Dtype  \n",
            "---  ------  --------------   -----  \n",
            " 0   Time    284807 non-null  float64\n",
            " 1   V1      284807 non-null  float64\n",
            " 2   V2      284807 non-null  float64\n",
            " 3   V3      284807 non-null  float64\n",
            " 4   V4      284807 non-null  float64\n",
            " 5   V5      284807 non-null  float64\n",
            " 6   V6      284807 non-null  float64\n",
            " 7   V7      284807 non-null  float64\n",
            " 8   V8      284807 non-null  float64\n",
            " 9   V9      284807 non-null  float64\n",
            " 10  V10     284807 non-null  float64\n",
            " 11  V11     284807 non-null  float64\n",
            " 12  V12     284807 non-null  float64\n",
            " 13  V13     284807 non-null  float64\n",
            " 14  V14     284807 non-null  float64\n",
            " 15  V15     284807 non-null  float64\n",
            " 16  V16     284807 non-null  float64\n",
            " 17  V17     284807 non-null  float64\n",
            " 18  V18     284807 non-null  float64\n",
            " 19  V19     284807 non-null  float64\n",
            " 20  V20     284807 non-null  float64\n",
            " 21  V21     284807 non-null  float64\n",
            " 22  V22     284807 non-null  float64\n",
            " 23  V23     284807 non-null  float64\n",
            " 24  V24     284807 non-null  float64\n",
            " 25  V25     284807 non-null  float64\n",
            " 26  V26     284807 non-null  float64\n",
            " 27  V27     284807 non-null  float64\n",
            " 28  V28     284807 non-null  float64\n",
            " 29  Amount  284807 non-null  float64\n",
            " 30  Class   284807 non-null  int64  \n",
            "dtypes: float64(30), int64(1)\n",
            "memory usage: 67.4 MB\n",
            "None\n",
            "                Time            V1            V2            V3            V4  \\\n",
            "count  284807.000000  2.848070e+05  2.848070e+05  2.848070e+05  2.848070e+05   \n",
            "mean    94813.859575  1.168375e-15  3.416908e-16 -1.379537e-15  2.074095e-15   \n",
            "std     47488.145955  1.958696e+00  1.651309e+00  1.516255e+00  1.415869e+00   \n",
            "min         0.000000 -5.640751e+01 -7.271573e+01 -4.832559e+01 -5.683171e+00   \n",
            "25%     54201.500000 -9.203734e-01 -5.985499e-01 -8.903648e-01 -8.486401e-01   \n",
            "50%     84692.000000  1.810880e-02  6.548556e-02  1.798463e-01 -1.984653e-02   \n",
            "75%    139320.500000  1.315642e+00  8.037239e-01  1.027196e+00  7.433413e-01   \n",
            "max    172792.000000  2.454930e+00  2.205773e+01  9.382558e+00  1.687534e+01   \n",
            "\n",
            "                 V5            V6            V7            V8            V9  \\\n",
            "count  2.848070e+05  2.848070e+05  2.848070e+05  2.848070e+05  2.848070e+05   \n",
            "mean   9.604066e-16  1.487313e-15 -5.556467e-16  1.213481e-16 -2.406331e-15   \n",
            "std    1.380247e+00  1.332271e+00  1.237094e+00  1.194353e+00  1.098632e+00   \n",
            "min   -1.137433e+02 -2.616051e+01 -4.355724e+01 -7.321672e+01 -1.343407e+01   \n",
            "25%   -6.915971e-01 -7.682956e-01 -5.540759e-01 -2.086297e-01 -6.430976e-01   \n",
            "50%   -5.433583e-02 -2.741871e-01  4.010308e-02  2.235804e-02 -5.142873e-02   \n",
            "75%    6.119264e-01  3.985649e-01  5.704361e-01  3.273459e-01  5.971390e-01   \n",
            "max    3.480167e+01  7.330163e+01  1.205895e+02  2.000721e+01  1.559499e+01   \n",
            "\n",
            "       ...           V21           V22           V23           V24  \\\n",
            "count  ...  2.848070e+05  2.848070e+05  2.848070e+05  2.848070e+05   \n",
            "mean   ...  1.654067e-16 -3.568593e-16  2.578648e-16  4.473266e-15   \n",
            "std    ...  7.345240e-01  7.257016e-01  6.244603e-01  6.056471e-01   \n",
            "min    ... -3.483038e+01 -1.093314e+01 -4.480774e+01 -2.836627e+00   \n",
            "25%    ... -2.283949e-01 -5.423504e-01 -1.618463e-01 -3.545861e-01   \n",
            "50%    ... -2.945017e-02  6.781943e-03 -1.119293e-02  4.097606e-02   \n",
            "75%    ...  1.863772e-01  5.285536e-01  1.476421e-01  4.395266e-01   \n",
            "max    ...  2.720284e+01  1.050309e+01  2.252841e+01  4.584549e+00   \n",
            "\n",
            "                V25           V26           V27           V28         Amount  \\\n",
            "count  2.848070e+05  2.848070e+05  2.848070e+05  2.848070e+05  284807.000000   \n",
            "mean   5.340915e-16  1.683437e-15 -3.660091e-16 -1.227390e-16      88.349619   \n",
            "std    5.212781e-01  4.822270e-01  4.036325e-01  3.300833e-01     250.120109   \n",
            "min   -1.029540e+01 -2.604551e+00 -2.256568e+01 -1.543008e+01       0.000000   \n",
            "25%   -3.171451e-01 -3.269839e-01 -7.083953e-02 -5.295979e-02       5.600000   \n",
            "50%    1.659350e-02 -5.213911e-02  1.342146e-03  1.124383e-02      22.000000   \n",
            "75%    3.507156e-01  2.409522e-01  9.104512e-02  7.827995e-02      77.165000   \n",
            "max    7.519589e+00  3.517346e+00  3.161220e+01  3.384781e+01   25691.160000   \n",
            "\n",
            "               Class  \n",
            "count  284807.000000  \n",
            "mean        0.001727  \n",
            "std         0.041527  \n",
            "min         0.000000  \n",
            "25%         0.000000  \n",
            "50%         0.000000  \n",
            "75%         0.000000  \n",
            "max         1.000000  \n",
            "\n",
            "[8 rows x 31 columns]\n"
          ]
        }
      ]
    },
    {
      "cell_type": "markdown",
      "source": [
        "Here is a proportion of fradulent transaction samples."
      ],
      "metadata": {
        "id": "HbngU3m0AaXV"
      }
    },
    {
      "cell_type": "code",
      "source": [
        "target_count = df[\"Class\"].value_counts()\n",
        "print('Amount of samples in Class 0:', target_count[0])\n",
        "print('Amount of samples in Class 1:', target_count[1])\n",
        "print('Proportion:', target_count[1] / target_count[0], ': 1')\n",
        "\n",
        "target_count.plot(kind='bar', title='Count (target)')\n",
        "\n"
      ],
      "metadata": {
        "id": "2wzWPeU9M4K8",
        "colab": {
          "base_uri": "https://localhost:8080/",
          "height": 538
        },
        "outputId": "139f6040-7a47-4530-8307-6a175c1f220c"
      },
      "execution_count": 4,
      "outputs": [
        {
          "output_type": "stream",
          "name": "stdout",
          "text": [
            "Amount of samples in Class 0: 284315\n",
            "Amount of samples in Class 1: 492\n",
            "Proportion: 0.0017304750013189597 : 1\n"
          ]
        },
        {
          "output_type": "execute_result",
          "data": {
            "text/plain": [
              "<Axes: title={'center': 'Count (target)'}, xlabel='Class'>"
            ]
          },
          "metadata": {},
          "execution_count": 4
        },
        {
          "output_type": "display_data",
          "data": {
            "text/plain": [
              "<Figure size 640x480 with 1 Axes>"
            ],
            "image/png": "[encoded data removed]"
          },
          "metadata": {}
        }
      ]
    },
    {
      "cell_type": "markdown",
      "source": [
        "At first, lets set aside the test set. It is very important to set a test side aside before performing transformation to the dataset."
      ],
      "metadata": {
        "id": "lhcQ3tVYAmif"
      }
    },
    {
      "cell_type": "code",
      "source": [
        "from sklearn.model_selection import train_test_split\n",
        "# Separate features and target variable\n",
        "X = df.drop('Class', axis=1)  # Replace 'target_variable' with your target column name\n",
        "y = df['Class']\n",
        "\n",
        "# Split data into training and testing sets\n",
        "X_train, X_test, y_train, y_test = train_test_split(X, y, test_size=0.2, random_state=42)\n",
        "print(f'Train set: proportion of fraud/non-fraud {len(y_train[y_train == 1])/len(y_train[y_train == 0])}')\n",
        "print(f'Test set: proportion of fraud/non-fraud {len(y_test[y_test == 1])/len(y_test[y_test == 0])}')\n"
      ],
      "metadata": {
        "id": "Jn25YmAAT-Zj",
        "colab": {
          "base_uri": "https://localhost:8080/"
        },
        "outputId": "2d407b47-443d-4897-8a9f-c6a47c69ddc0"
      },
      "execution_count": 5,
      "outputs": [
        {
          "output_type": "stream",
          "name": "stdout",
          "text": [
            "Train set: proportion of fraud/non-fraud 0.0017322412299792043\n",
            "Test set: proportion of fraud/non-fraud 0.0017234102419808666\n"
          ]
        }
      ]
    },
    {
      "cell_type": "markdown",
      "source": [
        "The anonimized features are already scaled but \"Time\" and \"Amount\" features are not. Let's scale those features. it should not effect scaling of other features."
      ],
      "metadata": {
        "id": "Uxi75rgfA20S"
      }
    },
    {
      "cell_type": "code",
      "source": [
        "from sklearn.preprocessing import StandardScaler\n",
        "# Scale the features using StandardScaler\n",
        "scaler = StandardScaler()\n",
        "X_train = scaler.fit_transform(X_train)\n",
        "X_test = scaler.transform(X_test)"
      ],
      "metadata": {
        "id": "N6mtEnlhcPXT"
      },
      "execution_count": 6,
      "outputs": []
    },
    {
      "cell_type": "markdown",
      "source": [
        "At first train the model on the original dataset. This would be our baseline, you would need to improve the performance upon it."
      ],
      "metadata": {
        "id": "cj6eahDaBPJd"
      }
    },
    {
      "cell_type": "code",
      "source": [
        "from tensorflow import keras\n",
        "from tensorflow.keras import layers, initializers\n",
        "from sklearn.model_selection import train_test_split\n",
        "from sklearn.preprocessing import StandardScaler\n",
        "from tensorflow.keras.callbacks import EarlyStopping\n",
        "\n",
        "def build_mlp_model_with_he_init(input_dim):\n",
        "    \"\"\"\n",
        "    Builds a Multilayer Perceptron (MLP) model with He Normal weight initialization for ReLU activation.\n",
        "\n",
        "    Args:\n",
        "      input_dim: The input shape (number of features).\n",
        "\n",
        "    Returns:\n",
        "      A compiled Keras model.\n",
        "    \"\"\"\n",
        "    model = keras.Sequential([\n",
        "        layers.Dense(64, input_dim=input_dim, activation='relu', kernel_initializer=initializers.HeNormal()),\n",
        "        layers.Dense(32, activation='relu', kernel_initializer=initializers.HeNormal()),\n",
        "        layers.Dense(1, activation='sigmoid')  # Sigmoid output for binary classification\n",
        "    ])\n",
        "    return model\n",
        "\n",
        "# Assuming X_train and y_train are already defined from previous steps\n",
        "\n",
        "# Get the shape of the training data\n",
        "input_dim = X_train.shape[1]\n",
        "\n",
        "# Create the model\n",
        "model_with_he_init = build_mlp_model_with_he_init(input_dim)\n",
        "\n",
        "# Compile the model with the Adam optimizer and binary crossentropy loss\n",
        "model_with_he_init.compile(optimizer='adam', loss='binary_crossentropy', metrics=['accuracy'])\n",
        "\n",
        "# Add early stopping to monitor validation loss and prevent unnecessary training\n",
        "early_stopping = EarlyStopping(monitor='val_loss', patience=5, restore_best_weights=True)\n",
        "\n",
        "# Train the model and monitor for overfitting\n",
        "history = model_with_he_init.fit(\n",
        "    X_train,\n",
        "    y_train,\n",
        "    epochs=10,  # Increase epochs to potentially observe overfitting\n",
        "    batch_size=32,\n",
        "    validation_split=0.2,\n",
        "    callbacks=[early_stopping],  # Stop if validation loss stops improving\n",
        "    verbose=1\n",
        ")\n",
        "\n",
        "# Evaluate the model performance on the test set\n",
        "test_loss, test_accuracy = model_with_he_init.evaluate(X_test, y_test)\n",
        "print('Test Accuracy:', test_accuracy)"
      ],
      "metadata": {
        "id": "9SpomEy1cXwb",
        "colab": {
          "base_uri": "https://localhost:8080/"
        },
        "outputId": "eef4273e-cd68-4e90-b8a8-e821303ff2af"
      },
      "execution_count": 7,
      "outputs": [
        {
          "output_type": "stream",
          "name": "stdout",
          "text": [
            "Epoch 1/10\n"
          ]
        },
        {
          "output_type": "stream",
          "name": "stderr",
          "text": [
            "/usr/local/lib/python3.10/dist-packages/keras/src/layers/core/dense.py:87: UserWarning: Do not pass an `input_shape`/`input_dim` argument to a layer. When using Sequential models, prefer using an `Input(shape)` object as the first layer in the model instead.\n",
            "  super().__init__(activity_regularizer=activity_regularizer, **kwargs)\n"
          ]
        },
        {
          "output_type": "stream",
          "name": "stdout",
          "text": [
            "\u001b[1m5697/5697\u001b[0m \u001b[32m━━━━━━━━━━━━━━━━━━━━\u001b[0m\u001b[37m\u001b[0m \u001b[1m24s\u001b[0m 4ms/step - accuracy: 0.9930 - loss: 0.0255 - val_accuracy: 0.9993 - val_loss: 0.0033\n",
            "Epoch 2/10\n",
            "\u001b[1m5697/5697\u001b[0m \u001b[32m━━━━━━━━━━━━━━━━━━━━\u001b[0m\u001b[37m\u001b[0m \u001b[1m30s\u001b[0m 2ms/step - accuracy: 0.9995 - loss: 0.0033 - val_accuracy: 0.9995 - val_loss: 0.0028\n",
            "Epoch 3/10\n",
            "\u001b[1m5697/5697\u001b[0m \u001b[32m━━━━━━━━━━━━━━━━━━━━\u001b[0m\u001b[37m\u001b[0m \u001b[1m11s\u001b[0m 2ms/step - accuracy: 0.9994 - loss: 0.0030 - val_accuracy: 0.9994 - val_loss: 0.0028\n",
            "Epoch 4/10\n",
            "\u001b[1m5697/5697\u001b[0m \u001b[32m━━━━━━━━━━━━━━━━━━━━\u001b[0m\u001b[37m\u001b[0m \u001b[1m12s\u001b[0m 2ms/step - accuracy: 0.9994 - loss: 0.0027 - val_accuracy: 0.9994 - val_loss: 0.0026\n",
            "Epoch 5/10\n",
            "\u001b[1m5697/5697\u001b[0m \u001b[32m━━━━━━━━━━━━━━━━━━━━\u001b[0m\u001b[37m\u001b[0m \u001b[1m21s\u001b[0m 2ms/step - accuracy: 0.9995 - loss: 0.0023 - val_accuracy: 0.9993 - val_loss: 0.0035\n",
            "Epoch 6/10\n",
            "\u001b[1m5697/5697\u001b[0m \u001b[32m━━━━━━━━━━━━━━━━━━━━\u001b[0m\u001b[37m\u001b[0m \u001b[1m11s\u001b[0m 2ms/step - accuracy: 0.9996 - loss: 0.0018 - val_accuracy: 0.9995 - val_loss: 0.0026\n",
            "Epoch 7/10\n",
            "\u001b[1m5697/5697\u001b[0m \u001b[32m━━━━━━━━━━━━━━━━━━━━\u001b[0m\u001b[37m\u001b[0m \u001b[1m12s\u001b[0m 2ms/step - accuracy: 0.9996 - loss: 0.0017 - val_accuracy: 0.9994 - val_loss: 0.0029\n",
            "Epoch 8/10\n",
            "\u001b[1m5697/5697\u001b[0m \u001b[32m━━━━━━━━━━━━━━━━━━━━\u001b[0m\u001b[37m\u001b[0m \u001b[1m22s\u001b[0m 2ms/step - accuracy: 0.9996 - loss: 0.0017 - val_accuracy: 0.9993 - val_loss: 0.0033\n",
            "Epoch 9/10\n",
            "\u001b[1m5697/5697\u001b[0m \u001b[32m━━━━━━━━━━━━━━━━━━━━\u001b[0m\u001b[37m\u001b[0m \u001b[1m13s\u001b[0m 2ms/step - accuracy: 0.9996 - loss: 0.0020 - val_accuracy: 0.9994 - val_loss: 0.0031\n",
            "\u001b[1m1781/1781\u001b[0m \u001b[32m━━━━━━━━━━━━━━━━━━━━\u001b[0m\u001b[37m\u001b[0m \u001b[1m2s\u001b[0m 1ms/step - accuracy: 0.9994 - loss: 0.0032\n",
            "Test Accuracy: 0.9994031190872192\n"
          ]
        }
      ]
    },
    {
      "cell_type": "markdown",
      "source": [
        "Test accuracy: 0.9994382262229919\n",
        "Fantastic accuracy! However lets check how many fraud detection casses were correctly identified."
      ],
      "metadata": {
        "id": "TFrPrHGpepjr"
      }
    },
    {
      "cell_type": "markdown",
      "source": [
        "An imbalanced dataset is one where the classes (in this case, fraudulent and non-fraudulent transactions) are not represented equally. This can lead to misleadingly high accuracy scores if the model simply predicts the majority class most of the time. To get a more accurate picture, we need to use metrics that account for proportion of class samples in the dataset.\n",
        "\n",
        "Here is the list of metrics that we will use:\n",
        "\n",
        "1. Confusion matrix\n",
        "               \n",
        "\n",
        "```\n",
        "                Predicted\n",
        ".................................\n",
        "      |      | True    | False\n",
        "      ...........................\n",
        "      | True |  TP     |  FN  \n",
        "   GT ...........................\n",
        "      | False|  FP     |  TN\n",
        "```\n",
        "\n",
        "TP - true positive, FN - false negative, FP - false positive, TN - true negative\n",
        "\n",
        "2. Precision = True Positives / (True Positives + False Positives)\n",
        "\n",
        "Precision is a fraction of correctly identified fraduelent transactions out of all fradulent pridictions.\n",
        "\n",
        "Precision is important because we want to avoid inconveniencing legitimate customers by mistakenly flagging their transactions as fraudulent. A high precision means fewer false alarms.\n",
        "\n",
        "3. Recall = True Positives / (True Positives + False Negatives)\n",
        "\n",
        "Recall is a fraction of correctly identified fraduelent transactions to all fradulent transactions.\n",
        "Recall is crucial because we want to catch as many fraudulent transactions as possible. A high recall means fewer fraudulent transactions go undetected.\n",
        "\n",
        "\n",
        "4. F1-Score = 2 * (Precision * Recall) / (Precision + Recall)\n",
        "\n",
        "The F1-score is a useful metric when you need to consider both precision and recall. It helps to find a model that performs well in both aspects, catching fraud while minimizing inconvenience to legitimate customers.\n",
        "\n",
        "5. AUC (Area Under the Receiver Operating Characteristic Curve)\n",
        "AUC is a measure of the model's ability to distinguish between the two classes (fraudulent and non-fraudulent).\n",
        "Interpretation: A higher AUC indicates better performance. An AUC of 0.5 represents a model that performs no better than random guessing, while an AUC of 1.0 represents a perfect model.\n",
        "\n",
        "Great explanation about AUC could be found here:\n",
        "https://developers.google.com/machine-learning/crash-course/classification/roc-and-auc\n",
        "\n",
        "You can also see their explanation of other metrics:\n",
        "https://developers.google.com/machine-learning/crash-course/classification/accuracy-precision-recall\n"
      ],
      "metadata": {
        "id": "4GLDCxHmfiW2"
      }
    },
    {
      "cell_type": "code",
      "source": [
        "from sklearn.metrics import confusion_matrix, precision_score, recall_score, f1_score, roc_auc_score\n",
        "\n",
        "# Make predictions on the test set using the model with He initialization\n",
        "y_pred = (model_with_he_init.predict(X_test) > 0.5).astype(\"int32\")\n",
        "\n",
        "# Calculate the confusion matrix\n",
        "# Pay attention: the order of labels is switched to make confusion matrix in the standard order\n",
        "cm = confusion_matrix(y_test, y_pred, labels=[1, 0])\n",
        "print(\"Confusion Matrix:\")\n",
        "print(cm)\n",
        "\n",
        "# Calculate precision, recall, F1-score, and AUC\n",
        "precision = precision_score(y_test, y_pred)\n",
        "recall = recall_score(y_test, y_pred)\n",
        "f1 = f1_score(y_test, y_pred)\n",
        "auc = roc_auc_score(y_test, y_pred)\n",
        "\n",
        "print(\"Precision:\", precision)\n",
        "print(\"Recall:\", recall)\n",
        "print(\"F1-score:\", f1)\n",
        "print(\"AUC:\", auc)\n"
      ],
      "metadata": {
        "id": "mgpo1sXYe8Xu",
        "colab": {
          "base_uri": "https://localhost:8080/"
        },
        "outputId": "fb766e0d-d8e9-4b6d-aaf7-c414eaca8e17"
      },
      "execution_count": 8,
      "outputs": [
        {
          "output_type": "stream",
          "name": "stdout",
          "text": [
            "\u001b[1m1781/1781\u001b[0m \u001b[32m━━━━━━━━━━━━━━━━━━━━\u001b[0m\u001b[37m\u001b[0m \u001b[1m2s\u001b[0m 1ms/step\n",
            "Confusion Matrix:\n",
            "[[   78    20]\n",
            " [   14 56850]]\n",
            "Precision: 0.8478260869565217\n",
            "Recall: 0.7959183673469388\n",
            "F1-score: 0.8210526315789474\n",
            "AUC: 0.8978360829418993\n"
          ]
        }
      ]
    },
    {
      "cell_type": "markdown",
      "source": [
        "As you can see, even though the accuracy of the model is almost 100 percent the accuracy of detecting fradulent transaction is less then optimal. One sixth of fradulent prediction are not fradulent, so 14 people credit cards were frozen for no reason because of your algorithm. More then forth of fradulent transactions go undetected,so 26 people lost money because of your algorithm.\n",
        "\n",
        "**How can we do better?**\n",
        "\n",
        "One of the popular technique for dealing with unbalanced dataset is by artificially adding samples to the smaller class, or subtracting elements from the bigger class. The first type of methods are called oversampling and the second type of methods - undersampling.\n",
        "\n",
        "However you should be carefull when performing this changes to the dataset. Blindly replicating samples from smaller class, can lead to replicating noise and overfitting. Blindly redusing the bigger class can cause loss of information.\n",
        "For training neural network we will concentrait on algorithms that increase the size of the dataset.\n",
        "\n",
        "At first you will try to increase the smaller class by randomly oversampling the fradulent detection samples. Then you will try a more sofisticated oversampling algorithm SMOTE(Synthetic Minority Oversampling TEchnique). SMOTE algorithm add points by interpolating existing points in the minority(smaller) class. The next algorithm you will test is ADASYN (Adaptive Synthetic Minority Oversampling Technique). ADASYN focuses on generating data points that are harder to learn, points near the descision boundary.\n",
        "You can find more information here:\n",
        "1. https://www.kaggle.com/code/rafjaa/resampling-strategies-for-imbalanced-datasets\n",
        "2.\n",
        "https://imbalanced-learn.org/stable/zzz_references.html#id11\n",
        "\n",
        "\n",
        "\n"
      ],
      "metadata": {
        "id": "hepUqOC-fJWF"
      }
    },
    {
      "cell_type": "markdown",
      "source": [
        "Next you need to train our model on the dataset that were artificially enlarged by Naive Resampling, SMOTE and ADASYN resampling. You need to report Confusion matrix, Prescision, Recall, F1-score, and AUC. Based on this metric you  need to define the most secusfull resampling method."
      ],
      "metadata": {
        "id": "5ncEvRDB4iY8"
      }
    },
    {
      "cell_type": "markdown",
      "source": [
        "**Random over-sampling**"
      ],
      "metadata": {
        "id": "Y5fJymOxCjuq"
      }
    },
    {
      "cell_type": "code",
      "source": [
        "from imblearn.over_sampling import RandomOverSampler\n",
        "from tensorflow.keras.callbacks import EarlyStopping\n",
        "from tensorflow.keras import initializers\n",
        "from tensorflow.keras import layers, models\n",
        "\n",
        "# Apply Random Over Sampling to balance the dataset\n",
        "ros = RandomOverSampler(random_state=0)\n",
        "X_train_resampled, y_train_resampled = ros.fit_resample(X_train, y_train)\n",
        "\n",
        "# Print the proportion of fraud/non-fraud in the resampled training set\n",
        "fraud_ratio_ros = len(y_train_resampled[y_train_resampled == 1]) / len(y_train_resampled[y_train_resampled == 0])\n",
        "print(f'After Random Over Sampling, the proportion of fraud to non-fraud transactions is {fraud_ratio_ros:.2f}')\n",
        "\n",
        "# Build the model with He Normal initialization\n",
        "model_ros = models.Sequential([\n",
        "    layers.Dense(64, input_dim=X_train.shape[1], activation='relu', kernel_initializer=initializers.HeNormal()),\n",
        "    layers.Dense(32, activation='relu', kernel_initializer=initializers.HeNormal()),\n",
        "    layers.Dense(1, activation='sigmoid')  # Sigmoid output for binary classification\n",
        "])\n",
        "\n",
        "# Compile the model\n",
        "model_ros.compile(optimizer='adam', loss='binary_crossentropy', metrics=['accuracy'])\n",
        "\n",
        "# Add early stopping to monitor validation loss\n",
        "early_stopping = EarlyStopping(monitor='val_loss', patience=5, restore_best_weights=True)\n",
        "\n",
        "# Train the model using the resampled data\n",
        "history_ros = model_ros.fit(\n",
        "    X_train_resampled,\n",
        "    y_train_resampled,\n",
        "    epochs=10,  # Allow for more epochs to monitor overfitting\n",
        "    batch_size=32,\n",
        "    validation_split=0.2,\n",
        "    callbacks=[early_stopping],  # Stop early if validation loss stops improving\n",
        "    verbose=1\n",
        ")\n",
        "\n",
        "# Evaluate the model's performance on the test data\n",
        "test_loss_ros, test_accuracy_ros = model_ros.evaluate(X_test, y_test)\n",
        "print(f'Test Accuracy (after Random Over Sampling): {test_accuracy_ros:.4f}')\n",
        "\n",
        "# Predict the outcomes on the test set\n",
        "y_pred_ros = (model_ros.predict(X_test) > 0.5).astype(\"int32\")\n",
        "\n",
        "# Confusion Matrix (with true positives, false positives, etc.)\n",
        "cm_ros = confusion_matrix(y_test, y_pred_ros, labels=[1, 0])\n",
        "print(\"Confusion Matrix (Random Over Sampling):\")\n",
        "print(cm_ros)\n",
        "\n",
        "# Compute Precision, Recall, F1-Score, and AUC\n",
        "precision_ros = precision_score(y_test, y_pred_ros)\n",
        "recall_ros = recall_score(y_test, y_pred_ros)\n",
        "f1_ros = f1_score(y_test, y_pred_ros)\n",
        "auc_ros = roc_auc_score(y_test, y_pred_ros)\n",
        "\n",
        "print(\"Precision (Random Over Sampling):\", precision_ros)\n",
        "print(\"Recall (Random Over Sampling):\", recall_ros)\n",
        "print(\"F1-Score (Random Over Sampling):\", f1_ros)\n",
        "print(\"AUC (Random Over Sampling):\", auc_ros)\n",
        "\n"
      ],
      "metadata": {
        "id": "dzTFcPhMuBES",
        "colab": {
          "base_uri": "https://localhost:8080/"
        },
        "outputId": "414f78ea-c28a-4fa3-8a69-3b4f9195b672"
      },
      "execution_count": 9,
      "outputs": [
        {
          "output_type": "stream",
          "name": "stdout",
          "text": [
            "After Random Over Sampling, the proportion of fraud to non-fraud transactions is 1.00\n",
            "Epoch 1/10\n"
          ]
        },
        {
          "output_type": "stream",
          "name": "stderr",
          "text": [
            "/usr/local/lib/python3.10/dist-packages/keras/src/layers/core/dense.py:87: UserWarning: Do not pass an `input_shape`/`input_dim` argument to a layer. When using Sequential models, prefer using an `Input(shape)` object as the first layer in the model instead.\n",
            "  super().__init__(activity_regularizer=activity_regularizer, **kwargs)\n"
          ]
        },
        {
          "output_type": "stream",
          "name": "stdout",
          "text": [
            "\u001b[1m11373/11373\u001b[0m \u001b[32m━━━━━━━━━━━━━━━━━━━━\u001b[0m\u001b[37m\u001b[0m \u001b[1m24s\u001b[0m 2ms/step - accuracy: 0.9782 - loss: 0.0640 - val_accuracy: 1.0000 - val_loss: 0.0015\n",
            "Epoch 2/10\n",
            "\u001b[1m11373/11373\u001b[0m \u001b[32m━━━━━━━━━━━━━━━━━━━━\u001b[0m\u001b[37m\u001b[0m \u001b[1m43s\u001b[0m 2ms/step - accuracy: 0.9988 - loss: 0.0051 - val_accuracy: 0.9973 - val_loss: 0.0049\n",
            "Epoch 3/10\n",
            "\u001b[1m11373/11373\u001b[0m \u001b[32m━━━━━━━━━━━━━━━━━━━━\u001b[0m\u001b[37m\u001b[0m \u001b[1m23s\u001b[0m 2ms/step - accuracy: 0.9993 - loss: 0.0032 - val_accuracy: 1.0000 - val_loss: 6.0813e-04\n",
            "Epoch 4/10\n",
            "\u001b[1m11373/11373\u001b[0m \u001b[32m━━━━━━━━━━━━━━━━━━━━\u001b[0m\u001b[37m\u001b[0m \u001b[1m21s\u001b[0m 2ms/step - accuracy: 0.9994 - loss: 0.0027 - val_accuracy: 1.0000 - val_loss: 3.5750e-04\n",
            "Epoch 5/10\n",
            "\u001b[1m11373/11373\u001b[0m \u001b[32m━━━━━━━━━━━━━━━━━━━━\u001b[0m\u001b[37m\u001b[0m \u001b[1m25s\u001b[0m 2ms/step - accuracy: 0.9994 - loss: 0.0025 - val_accuracy: 1.0000 - val_loss: 1.5661e-04\n",
            "Epoch 6/10\n",
            "\u001b[1m11373/11373\u001b[0m \u001b[32m━━━━━━━━━━━━━━━━━━━━\u001b[0m\u001b[37m\u001b[0m \u001b[1m39s\u001b[0m 2ms/step - accuracy: 0.9997 - loss: 0.0018 - val_accuracy: 1.0000 - val_loss: 3.4465e-04\n",
            "Epoch 7/10\n",
            "\u001b[1m11373/11373\u001b[0m \u001b[32m━━━━━━━━━━━━━━━━━━━━\u001b[0m\u001b[37m\u001b[0m \u001b[1m24s\u001b[0m 2ms/step - accuracy: 0.9996 - loss: 0.0017 - val_accuracy: 1.0000 - val_loss: 2.4780e-04\n",
            "Epoch 8/10\n",
            "\u001b[1m11373/11373\u001b[0m \u001b[32m━━━━━━━━━━━━━━━━━━━━\u001b[0m\u001b[37m\u001b[0m \u001b[1m23s\u001b[0m 2ms/step - accuracy: 0.9996 - loss: 0.0014 - val_accuracy: 1.0000 - val_loss: 1.7117e-04\n",
            "Epoch 9/10\n",
            "\u001b[1m11373/11373\u001b[0m \u001b[32m━━━━━━━━━━━━━━━━━━━━\u001b[0m\u001b[37m\u001b[0m \u001b[1m42s\u001b[0m 2ms/step - accuracy: 0.9997 - loss: 0.0013 - val_accuracy: 1.0000 - val_loss: 0.0023\n",
            "Epoch 10/10\n",
            "\u001b[1m11373/11373\u001b[0m \u001b[32m━━━━━━━━━━━━━━━━━━━━\u001b[0m\u001b[37m\u001b[0m \u001b[1m42s\u001b[0m 2ms/step - accuracy: 0.9997 - loss: 0.0011 - val_accuracy: 0.9977 - val_loss: 0.0039\n",
            "\u001b[1m1781/1781\u001b[0m \u001b[32m━━━━━━━━━━━━━━━━━━━━\u001b[0m\u001b[37m\u001b[0m \u001b[1m2s\u001b[0m 1ms/step - accuracy: 0.9990 - loss: 0.0123\n",
            "Test Accuracy (after Random Over Sampling): 0.9988\n",
            "\u001b[1m1781/1781\u001b[0m \u001b[32m━━━━━━━━━━━━━━━━━━━━\u001b[0m\u001b[37m\u001b[0m \u001b[1m2s\u001b[0m 1ms/step\n",
            "Confusion Matrix (Random Over Sampling):\n",
            "[[   82    16]\n",
            " [   54 56810]]\n",
            "Precision (Random Over Sampling): 0.6029411764705882\n",
            "Recall (Random Over Sampling): 0.8367346938775511\n",
            "F1-Score (Random Over Sampling): 0.7008547008547008\n",
            "AUC (Random Over Sampling): 0.917892529831291\n"
          ]
        }
      ]
    },
    {
      "cell_type": "markdown",
      "source": [
        "**SMOTE over-sampling**"
      ],
      "metadata": {
        "id": "UBq8cnxNCwQ_"
      }
    },
    {
      "cell_type": "code",
      "source": [
        "from imblearn.over_sampling import SMOTE  # For handling class imbalance with SMOTE\n",
        "from tensorflow.keras.callbacks import EarlyStopping\n",
        "from tensorflow.keras import initializers\n",
        "from tensorflow.keras import layers, models\n",
        "\n",
        "# Apply SMOTE (Synthetic Minority Over-sampling Technique) to balance the dataset\n",
        "smote = SMOTE(random_state=42)\n",
        "X_train_resampled, y_train_resampled = smote.fit_resample(X_train, y_train)\n",
        "\n",
        "# Print the proportion of fraud/non-fraud in the resampled training set\n",
        "fraud_ratio_smote = len(y_train_resampled[y_train_resampled == 1]) / len(y_train_resampled[y_train_resampled == 0])\n",
        "print(f'After applying SMOTE, the proportion of fraud to non-fraud transactions is {fraud_ratio_smote:.2f}')\n",
        "\n",
        "# Build the model with He Normal initialization\n",
        "model_smote = models.Sequential([\n",
        "    layers.Dense(64, input_dim=X_train.shape[1], activation='relu', kernel_initializer=initializers.HeNormal()),\n",
        "    layers.Dense(32, activation='relu', kernel_initializer=initializers.HeNormal()),\n",
        "    layers.Dense(1, activation='sigmoid')  # Sigmoid output for binary classification\n",
        "])\n",
        "\n",
        "# Compile the model\n",
        "model_smote.compile(optimizer='adam', loss='binary_crossentropy', metrics=['accuracy'])\n",
        "\n",
        "# Add early stopping to monitor validation loss\n",
        "early_stopping = EarlyStopping(monitor='val_loss', patience=5, restore_best_weights=True)\n",
        "\n",
        "# Train the model using the resampled data\n",
        "history_smote = model_smote.fit(\n",
        "    X_train_resampled,\n",
        "    y_train_resampled,\n",
        "    epochs=10,  # Allow for more epochs to monitor overfitting\n",
        "    batch_size=32,\n",
        "    validation_split=0.2,\n",
        "    callbacks=[early_stopping],  # Stop early if validation loss stops improving\n",
        "    verbose=1\n",
        ")\n",
        "\n",
        "# Evaluate the model's performance on the test data\n",
        "test_loss_smote, test_accuracy_smote = model_smote.evaluate(X_test, y_test)\n",
        "print(f'Test Accuracy (after SMOTE): {test_accuracy_smote:.4f}')\n",
        "\n",
        "# Predict the outcomes on the test set\n",
        "y_pred_smote = (model_smote.predict(X_test) > 0.5).astype(\"int32\")\n",
        "\n",
        "# Confusion Matrix (with true positives, false positives, etc.)\n",
        "cm_smote = confusion_matrix(y_test, y_pred_smote, labels=[1, 0])\n",
        "print(\"Confusion Matrix (SMOTE):\")\n",
        "print(cm_smote)\n",
        "\n",
        "# Compute Precision, Recall, F1-Score, and AUC\n",
        "precision_smote = precision_score(y_test, y_pred_smote)\n",
        "recall_smote = recall_score(y_test, y_pred_smote)\n",
        "f1_smote = f1_score(y_test, y_pred_smote)\n",
        "auc_smote = roc_auc_score(y_test, y_pred_smote)\n",
        "\n",
        "print(\"Precision (SMOTE):\", precision_smote)\n",
        "print(\"Recall (SMOTE):\", recall_smote)\n",
        "print(\"F1-Score (SMOTE):\", f1_smote)\n",
        "print(\"AUC (SMOTE):\", auc_smote)\n",
        "\n"
      ],
      "metadata": {
        "id": "siOtQJ-i43Nx",
        "colab": {
          "base_uri": "https://localhost:8080/"
        },
        "outputId": "363f9114-fcea-4750-a75b-a427110fe81a"
      },
      "execution_count": 10,
      "outputs": [
        {
          "output_type": "stream",
          "name": "stdout",
          "text": [
            "After applying SMOTE, the proportion of fraud to non-fraud transactions is 1.00\n",
            "Epoch 1/10\n"
          ]
        },
        {
          "output_type": "stream",
          "name": "stderr",
          "text": [
            "/usr/local/lib/python3.10/dist-packages/keras/src/layers/core/dense.py:87: UserWarning: Do not pass an `input_shape`/`input_dim` argument to a layer. When using Sequential models, prefer using an `Input(shape)` object as the first layer in the model instead.\n",
            "  super().__init__(activity_regularizer=activity_regularizer, **kwargs)\n"
          ]
        },
        {
          "output_type": "stream",
          "name": "stdout",
          "text": [
            "\u001b[1m11373/11373\u001b[0m \u001b[32m━━━━━━━━━━━━━━━━━━━━\u001b[0m\u001b[37m\u001b[0m \u001b[1m25s\u001b[0m 2ms/step - accuracy: 0.9802 - loss: 0.0572 - val_accuracy: 0.9967 - val_loss: 0.0122\n",
            "Epoch 2/10\n",
            "\u001b[1m11373/11373\u001b[0m \u001b[32m━━━━━━━━━━━━━━━━━━━━\u001b[0m\u001b[37m\u001b[0m \u001b[1m44s\u001b[0m 2ms/step - accuracy: 0.9986 - loss: 0.0062 - val_accuracy: 1.0000 - val_loss: 0.0013\n",
            "Epoch 3/10\n",
            "\u001b[1m11373/11373\u001b[0m \u001b[32m━━━━━━━━━━━━━━━━━━━━\u001b[0m\u001b[37m\u001b[0m \u001b[1m39s\u001b[0m 2ms/step - accuracy: 0.9990 - loss: 0.0042 - val_accuracy: 0.9998 - val_loss: 0.0014\n",
            "Epoch 4/10\n",
            "\u001b[1m11373/11373\u001b[0m \u001b[32m━━━━━━━━━━━━━━━━━━━━\u001b[0m\u001b[37m\u001b[0m \u001b[1m41s\u001b[0m 2ms/step - accuracy: 0.9994 - loss: 0.0032 - val_accuracy: 1.0000 - val_loss: 7.6891e-04\n",
            "Epoch 5/10\n",
            "\u001b[1m11373/11373\u001b[0m \u001b[32m━━━━━━━━━━━━━━━━━━━━\u001b[0m\u001b[37m\u001b[0m \u001b[1m41s\u001b[0m 2ms/step - accuracy: 0.9994 - loss: 0.0024 - val_accuracy: 0.9999 - val_loss: 9.0534e-04\n",
            "Epoch 6/10\n",
            "\u001b[1m11373/11373\u001b[0m \u001b[32m━━━━━━━━━━━━━━━━━━━━\u001b[0m\u001b[37m\u001b[0m \u001b[1m23s\u001b[0m 2ms/step - accuracy: 0.9994 - loss: 0.0023 - val_accuracy: 1.0000 - val_loss: 4.0573e-04\n",
            "Epoch 7/10\n",
            "\u001b[1m11373/11373\u001b[0m \u001b[32m━━━━━━━━━━━━━━━━━━━━\u001b[0m\u001b[37m\u001b[0m \u001b[1m25s\u001b[0m 2ms/step - accuracy: 0.9996 - loss: 0.0017 - val_accuracy: 1.0000 - val_loss: 9.1277e-04\n",
            "Epoch 8/10\n",
            "\u001b[1m11373/11373\u001b[0m \u001b[32m━━━━━━━━━━━━━━━━━━━━\u001b[0m\u001b[37m\u001b[0m \u001b[1m41s\u001b[0m 2ms/step - accuracy: 0.9997 - loss: 0.0015 - val_accuracy: 1.0000 - val_loss: 3.1446e-04\n",
            "Epoch 9/10\n",
            "\u001b[1m11373/11373\u001b[0m \u001b[32m━━━━━━━━━━━━━━━━━━━━\u001b[0m\u001b[37m\u001b[0m \u001b[1m38s\u001b[0m 2ms/step - accuracy: 0.9996 - loss: 0.0016 - val_accuracy: 1.0000 - val_loss: 6.2875e-04\n",
            "Epoch 10/10\n",
            "\u001b[1m11373/11373\u001b[0m \u001b[32m━━━━━━━━━━━━━━━━━━━━\u001b[0m\u001b[37m\u001b[0m \u001b[1m24s\u001b[0m 2ms/step - accuracy: 0.9997 - loss: 0.0016 - val_accuracy: 1.0000 - val_loss: 1.5014e-04\n",
            "\u001b[1m1781/1781\u001b[0m \u001b[32m━━━━━━━━━━━━━━━━━━━━\u001b[0m\u001b[37m\u001b[0m \u001b[1m2s\u001b[0m 1ms/step - accuracy: 0.9989 - loss: 0.0172\n",
            "Test Accuracy (after SMOTE): 0.9989\n",
            "\u001b[1m1781/1781\u001b[0m \u001b[32m━━━━━━━━━━━━━━━━━━━━\u001b[0m\u001b[37m\u001b[0m \u001b[1m2s\u001b[0m 1ms/step\n",
            "Confusion Matrix (SMOTE):\n",
            "[[   83    15]\n",
            " [   50 56814]]\n",
            "Precision (SMOTE): 0.6240601503759399\n",
            "Recall (SMOTE): 0.8469387755102041\n",
            "F1-Score (SMOTE): 0.7186147186147186\n",
            "AUC (SMOTE): 0.9230297422852091\n"
          ]
        }
      ]
    },
    {
      "cell_type": "markdown",
      "source": [
        "**ADASYN over-sampling**"
      ],
      "metadata": {
        "id": "0IVhTjA8C9Ra"
      }
    },
    {
      "cell_type": "code",
      "source": [
        "from imblearn.over_sampling import ADASYN  # For handling class imbalance with ADASYN\n",
        "from tensorflow.keras.callbacks import EarlyStopping\n",
        "from tensorflow.keras import initializers\n",
        "from tensorflow.keras import layers, models\n",
        "\n",
        "# Apply ADASYN (Adaptive Synthetic Sampling) to balance the dataset\n",
        "adasyn = ADASYN(random_state=42)\n",
        "X_train_resampled, y_train_resampled = adasyn.fit_resample(X_train, y_train)\n",
        "\n",
        "# Print the proportion of fraud/non-fraud in the resampled training set\n",
        "fraud_ratio_adasyn = len(y_train_resampled[y_train_resampled == 1]) / len(y_train_resampled[y_train_resampled == 0])\n",
        "print(f'After applying ADASYN, the proportion of fraud to non-fraud transactions is {fraud_ratio_adasyn:.2f}')\n",
        "\n",
        "# Build the model with He Normal initialization\n",
        "model_adasyn = models.Sequential([\n",
        "    layers.Dense(64, input_dim=X_train.shape[1], activation='relu', kernel_initializer=initializers.HeNormal()),\n",
        "    layers.Dense(32, activation='relu', kernel_initializer=initializers.HeNormal()),\n",
        "    layers.Dense(1, activation='sigmoid')  # Sigmoid output for binary classification\n",
        "])\n",
        "\n",
        "# Compile the model\n",
        "model_adasyn.compile(optimizer='adam', loss='binary_crossentropy', metrics=['accuracy'])\n",
        "\n",
        "# Add early stopping to monitor validation loss\n",
        "early_stopping = EarlyStopping(monitor='val_loss', patience=5, restore_best_weights=True)\n",
        "\n",
        "# Train the model using the resampled data\n",
        "history_adasyn = model_adasyn.fit(\n",
        "    X_train_resampled,\n",
        "    y_train_resampled,\n",
        "    epochs=10,  # Allow for more epochs to monitor overfitting\n",
        "    batch_size=32,\n",
        "    validation_split=0.2,\n",
        "    callbacks=[early_stopping],  # Stop early if validation loss stops improving\n",
        "    verbose=1\n",
        ")\n",
        "\n",
        "# Evaluate the model's performance on the test data\n",
        "test_loss_adasyn, test_accuracy_adasyn = model_adasyn.evaluate(X_test, y_test)\n",
        "print(f'Test Accuracy (after ADASYN): {test_accuracy_adasyn:.4f}')\n",
        "\n",
        "# Predict the outcomes on the test set\n",
        "y_pred_adasyn = (model_adasyn.predict(X_test) > 0.5).astype(\"int32\")\n",
        "\n",
        "# Confusion Matrix (with true positives, false positives, etc.)\n",
        "cm_adasyn = confusion_matrix(y_test, y_pred_adasyn, labels=[1, 0])\n",
        "print(\"Confusion Matrix (ADASYN):\")\n",
        "print(cm_adasyn)\n",
        "\n",
        "# Compute Precision, Recall, F1-Score, and AUC\n",
        "precision_adasyn = precision_score(y_test, y_pred_adasyn)\n",
        "recall_adasyn = recall_score(y_test, y_pred_adasyn)\n",
        "f1_adasyn = f1_score(y_test, y_pred_adasyn)\n",
        "auc_adasyn = roc_auc_score(y_test, y_pred_adasyn)\n",
        "\n",
        "print(\"Precision (ADASYN):\", precision_adasyn)\n",
        "print(\"Recall (ADASYN):\", recall_adasyn)\n",
        "print(\"F1-Score (ADASYN):\", f1_adasyn)\n",
        "print(\"AUC (ADASYN):\", auc_adasyn)\n",
        "\n"
      ],
      "metadata": {
        "id": "Y2QNPbusuvrc",
        "colab": {
          "base_uri": "https://localhost:8080/"
        },
        "outputId": "352fb6ec-f3f7-4f99-8fec-4bafefc30139"
      },
      "execution_count": 11,
      "outputs": [
        {
          "output_type": "stream",
          "name": "stdout",
          "text": [
            "After applying ADASYN, the proportion of fraud to non-fraud transactions is 1.00\n"
          ]
        },
        {
          "output_type": "stream",
          "name": "stderr",
          "text": [
            "/usr/local/lib/python3.10/dist-packages/keras/src/layers/core/dense.py:87: UserWarning: Do not pass an `input_shape`/`input_dim` argument to a layer. When using Sequential models, prefer using an `Input(shape)` object as the first layer in the model instead.\n",
            "  super().__init__(activity_regularizer=activity_regularizer, **kwargs)\n"
          ]
        },
        {
          "output_type": "stream",
          "name": "stdout",
          "text": [
            "Epoch 1/10\n",
            "\u001b[1m11373/11373\u001b[0m \u001b[32m━━━━━━━━━━━━━━━━━━━━\u001b[0m\u001b[37m\u001b[0m \u001b[1m25s\u001b[0m 2ms/step - accuracy: 0.9743 - loss: 0.0704 - val_accuracy: 0.9702 - val_loss: 0.1202\n",
            "Epoch 2/10\n",
            "\u001b[1m11373/11373\u001b[0m \u001b[32m━━━━━━━━━━━━━━━━━━━━\u001b[0m\u001b[37m\u001b[0m \u001b[1m41s\u001b[0m 2ms/step - accuracy: 0.9988 - loss: 0.0054 - val_accuracy: 0.9581 - val_loss: 0.2097\n",
            "Epoch 3/10\n",
            "\u001b[1m11373/11373\u001b[0m \u001b[32m━━━━━━━━━━━━━━━━━━━━\u001b[0m\u001b[37m\u001b[0m \u001b[1m38s\u001b[0m 2ms/step - accuracy: 0.9993 - loss: 0.0035 - val_accuracy: 0.9643 - val_loss: 0.2012\n",
            "Epoch 4/10\n",
            "\u001b[1m11373/11373\u001b[0m \u001b[32m━━━━━━━━━━━━━━━━━━━━\u001b[0m\u001b[37m\u001b[0m \u001b[1m23s\u001b[0m 2ms/step - accuracy: 0.9993 - loss: 0.0033 - val_accuracy: 0.9717 - val_loss: 0.1805\n",
            "Epoch 5/10\n",
            "\u001b[1m11373/11373\u001b[0m \u001b[32m━━━━━━━━━━━━━━━━━━━━\u001b[0m\u001b[37m\u001b[0m \u001b[1m24s\u001b[0m 2ms/step - accuracy: 0.9994 - loss: 0.0027 - val_accuracy: 0.9744 - val_loss: 0.1125\n",
            "Epoch 6/10\n",
            "\u001b[1m11373/11373\u001b[0m \u001b[32m━━━━━━━━━━━━━━━━━━━━\u001b[0m\u001b[37m\u001b[0m \u001b[1m21s\u001b[0m 2ms/step - accuracy: 0.9996 - loss: 0.0016 - val_accuracy: 0.9738 - val_loss: 0.0957\n",
            "Epoch 7/10\n",
            "\u001b[1m11373/11373\u001b[0m \u001b[32m━━━━━━━━━━━━━━━━━━━━\u001b[0m\u001b[37m\u001b[0m \u001b[1m23s\u001b[0m 2ms/step - accuracy: 0.9995 - loss: 0.0021 - val_accuracy: 0.9580 - val_loss: 0.1764\n",
            "Epoch 8/10\n",
            "\u001b[1m11373/11373\u001b[0m \u001b[32m━━━━━━━━━━━━━━━━━━━━\u001b[0m\u001b[37m\u001b[0m \u001b[1m21s\u001b[0m 2ms/step - accuracy: 0.9997 - loss: 0.0015 - val_accuracy: 0.9645 - val_loss: 0.1422\n",
            "Epoch 9/10\n",
            "\u001b[1m11373/11373\u001b[0m \u001b[32m━━━━━━━━━━━━━━━━━━━━\u001b[0m\u001b[37m\u001b[0m \u001b[1m23s\u001b[0m 2ms/step - accuracy: 0.9996 - loss: 0.0015 - val_accuracy: 0.9847 - val_loss: 0.0788\n",
            "Epoch 10/10\n",
            "\u001b[1m11373/11373\u001b[0m \u001b[32m━━━━━━━━━━━━━━━━━━━━\u001b[0m\u001b[37m\u001b[0m \u001b[1m23s\u001b[0m 2ms/step - accuracy: 0.9996 - loss: 0.0016 - val_accuracy: 0.9618 - val_loss: 0.1693\n",
            "\u001b[1m1781/1781\u001b[0m \u001b[32m━━━━━━━━━━━━━━━━━━━━\u001b[0m\u001b[37m\u001b[0m \u001b[1m2s\u001b[0m 1ms/step - accuracy: 0.9989 - loss: 0.0172\n",
            "Test Accuracy (after ADASYN): 0.9989\n",
            "\u001b[1m1781/1781\u001b[0m \u001b[32m━━━━━━━━━━━━━━━━━━━━\u001b[0m\u001b[37m\u001b[0m \u001b[1m2s\u001b[0m 1ms/step\n",
            "Confusion Matrix (ADASYN):\n",
            "[[   82    16]\n",
            " [   47 56817]]\n",
            "Precision (ADASYN): 0.6356589147286822\n",
            "Recall (ADASYN): 0.8367346938775511\n",
            "F1-Score (ADASYN): 0.7224669603524229\n",
            "AUC (ADASYN): 0.917954080197076\n"
          ]
        }
      ]
    }
  ]
}